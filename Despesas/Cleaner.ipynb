{
 "cells": [
  {
   "cell_type": "code",
   "execution_count": 112,
   "metadata": {},
   "outputs": [],
   "source": [
    "import pandas as pd"
   ]
  },
  {
   "cell_type": "code",
   "execution_count": 113,
   "metadata": {},
   "outputs": [],
   "source": [
    "siglas = ['PA', 'PB', 'PE', 'PI', 'PR', 'RJ', 'RN', 'RO', 'RR', 'RS', 'SC', 'SE', 'SP', 'TO']\n"
   ]
  },
  {
   "cell_type": "code",
   "execution_count": 114,
   "metadata": {},
   "outputs": [],
   "source": [
    "colunas_drop = [\n",
    "    'DT_GERACAO', 'HH_GERACAO', 'ANO_ELEICAO',\n",
    "    'CD_TIPO_ELEICAO', 'NM_TIPO_ELEICAO', 'CD_ELEICAO', 'DS_ELEICAO',\n",
    "    'DT_ELEICAO', 'TP_PRESTACAO_CONTAS', 'DT_PRESTACAO_CONTAS', 'SQ_PRESTADOR_CONTAS',\n",
    "    'SG_UF', 'SG_UE', 'NM_UE', 'NR_CNPJ_PRESTADOR_CONTA',\n",
    "    'CD_CARGO','NR_CPF_VICE_CANDIDATO', 'CD_TIPO_FORNECEDOR', 'DS_TIPO_FORNECEDOR', 'DS_CNAE_FORNECEDOR',\n",
    "    'NR_CPF_CNPJ_FORNECEDOR', 'NM_FORNECEDOR', 'NM_FORNECEDOR_RFB', 'CD_ESFERA_PART_FORNECEDOR',\n",
    "    'DS_ESFERA_PART_FORNECEDOR', 'SG_UF_FORNECEDOR', 'CD_MUNICIPIO_FORNECEDOR', 'NM_MUNICIPIO_FORNECEDOR', \n",
    "    'SQ_CANDIDATO_FORNECEDOR', 'NR_CANDIDATO_FORNECEDOR', 'CD_CARGO_FORNECEDOR', 'DS_CARGO_FORNECEDOR', 'DT_DESPESA',\n",
    "    'NR_CPF_CANDIDATO', 'CD_CNAE_FORNECEDOR', 'CD_ORIGEM_DESPESA', 'NR_DOCUMENTO', 'NM_PARTIDO_FORNECEDOR', 'SG_PARTIDO_FORNECEDOR',\n",
    "    'DS_TIPO_DOCUMENTO', 'NR_PARTIDO_FORNECEDOR'\n",
    "\n",
    "]"
   ]
  },
  {
   "cell_type": "code",
   "execution_count": 115,
   "metadata": {},
   "outputs": [],
   "source": [
    "def filtra_despesas(df, colunas_drop):\n",
    "    return (\n",
    "        df.drop(columns=colunas_drop)\n",
    "          .loc[(df['DS_CARGO'] == 'Governador') & (df['ST_TURNO'] == 1)] \n",
    "          .drop(columns='ST_TURNO')  \n",
    "    )"
   ]
  },
  {
   "cell_type": "code",
   "execution_count": 116,
   "metadata": {},
   "outputs": [
    {
     "name": "stdout",
     "output_type": "stream",
     "text": [
      "Arquivo despesas_contratadas_candidatos_2022_RS.csv processado e salvo como Despesas_RS.csv\n"
     ]
    }
   ],
   "source": [
    "nome = 'despesas_contratadas_candidatos_2022_'\n",
    "upload = 'Despesas_'\n",
    "\n",
    "for s in siglas:\n",
    "\n",
    "    n = nome + s + '.csv'\n",
    "    \n",
    "    df = pd.read_csv(n, delimiter=';', encoding='latin1')\n",
    "    \n",
    "    df_filtrado = filtra_despesas(df, colunas_drop)\n",
    "    \n",
    "    df_filtrado.to_csv(upload + s + '.csv', index=False)\n",
    "    \n",
    "    print(f\"Arquivo {n} processado e salvo como {upload + s}.csv\")"
   ]
  },
  {
   "cell_type": "code",
   "execution_count": null,
   "metadata": {},
   "outputs": [],
   "source": []
  },
  {
   "cell_type": "code",
   "execution_count": null,
   "metadata": {},
   "outputs": [],
   "source": []
  }
 ],
 "metadata": {
  "kernelspec": {
   "display_name": "Python 3",
   "language": "python",
   "name": "python3"
  },
  "language_info": {
   "codemirror_mode": {
    "name": "ipython",
    "version": 3
   },
   "file_extension": ".py",
   "mimetype": "text/x-python",
   "name": "python",
   "nbconvert_exporter": "python",
   "pygments_lexer": "ipython3",
   "version": "3.12.5"
  }
 },
 "nbformat": 4,
 "nbformat_minor": 2
}
