{
 "cells": [
  {
   "cell_type": "code",
   "execution_count": 1,
   "metadata": {},
   "outputs": [],
   "source": [
    "import pandas as pd\n",
    "import numpy as np"
   ]
  },
  {
   "cell_type": "code",
   "execution_count": 2,
   "metadata": {},
   "outputs": [],
   "source": [
    "df_list = []"
   ]
  },
  {
   "cell_type": "code",
   "execution_count": 3,
   "metadata": {},
   "outputs": [],
   "source": [
    "siglas = ['AC', 'AL', 'AM', 'AP', 'BA', 'CE', 'DF', 'ES', 'GO', 'MA', 'MG', 'MS', 'MT', 'PA', 'PB', 'PE', 'PI', 'PR', 'RJ', 'RN', 'RO', 'RR', 'RS', 'SC', 'SE', 'SP', 'TO']"
   ]
  },
  {
   "cell_type": "code",
   "execution_count": 4,
   "metadata": {},
   "outputs": [],
   "source": [
    "colunas_drop = [\n",
    "    'DT_GERACAO', 'HH_GERACAO', 'CD_TIPO_ELEICAO', 'NM_TIPO_ELEICAO', 'CD_ELEICAO',\n",
    "    'DS_ELEICAO', 'DT_ELEICAO', 'TP_ABRANGENCIA_ELEICAO', 'SG_UE', 'NM_UE',\n",
    "    'CD_CARGO', 'NR_CANDIDATO', 'NM_URNA_CANDIDATO', 'NM_SOCIAL_CANDIDATO', 'NR_CPF_CANDIDATO',\n",
    "    'DS_EMAIL', 'CD_SITUACAO_CANDIDATURA', 'DS_SITUACAO_CANDIDATURA', 'TP_AGREMIACAO',\n",
    "    'NM_PARTIDO', 'NR_FEDERACAO', 'NM_FEDERACAO', 'SG_FEDERACAO', 'DS_COMPOSICAO_FEDERACAO',\n",
    "    'SQ_COLIGACAO', 'NM_COLIGACAO', 'DS_COMPOSICAO_COLIGACAO', 'SG_UF_NASCIMENTO',\n",
    "    'DT_NASCIMENTO', 'NR_TITULO_ELEITORAL_CANDIDATO', 'CD_GENERO', 'DS_GENERO',\n",
    "    'CD_GRAU_INSTRUCAO', 'DS_GRAU_INSTRUCAO', 'CD_ESTADO_CIVIL', 'DS_ESTADO_CIVIL',\n",
    "    'CD_COR_RACA', 'DS_COR_RACA', 'CD_OCUPACAO', 'DS_OCUPACAO', 'CD_SIT_TOT_TURNO',\n",
    "    'DS_SIT_TOT_TURNO'\n",
    "]"
   ]
  },
  {
   "cell_type": "code",
   "execution_count": 5,
   "metadata": {},
   "outputs": [],
   "source": [
    "def filtra_candidatos(df, colunas_drop):\n",
    "  df = df.drop(columns=colunas_drop)\n",
    "  df = df.loc[(df['DS_CARGO'] == 'GOVERNADOR')]\n",
    "  df['PASSOU_TURNO'] = np.where(df['NR_TURNO'] == 1, False, True)   \n",
    "   \n",
    "  return df"
   ]
  },
  {
   "cell_type": "code",
   "execution_count": 6,
   "metadata": {},
   "outputs": [],
   "source": [
    "def junta_candidatos(df_list):\n",
    "    return pd.concat(df_list, ignore_index=True)"
   ]
  },
  {
   "cell_type": "code",
   "execution_count": 7,
   "metadata": {},
   "outputs": [
    {
     "name": "stdout",
     "output_type": "stream",
     "text": [
      "consulta_cand_2022_AC.csv\n",
      "consulta_cand_2022_AL.csv\n",
      "consulta_cand_2022_AM.csv\n",
      "consulta_cand_2022_AP.csv\n",
      "consulta_cand_2022_BA.csv\n",
      "consulta_cand_2022_CE.csv\n",
      "consulta_cand_2022_DF.csv\n",
      "consulta_cand_2022_ES.csv\n",
      "consulta_cand_2022_GO.csv\n",
      "consulta_cand_2022_MA.csv\n",
      "consulta_cand_2022_MG.csv\n",
      "consulta_cand_2022_MS.csv\n",
      "consulta_cand_2022_MT.csv\n",
      "consulta_cand_2022_PA.csv\n",
      "consulta_cand_2022_PB.csv\n",
      "consulta_cand_2022_PE.csv\n",
      "consulta_cand_2022_PI.csv\n",
      "consulta_cand_2022_PR.csv\n",
      "consulta_cand_2022_RJ.csv\n",
      "consulta_cand_2022_RN.csv\n",
      "consulta_cand_2022_RO.csv\n",
      "consulta_cand_2022_RR.csv\n",
      "consulta_cand_2022_RS.csv\n",
      "consulta_cand_2022_SC.csv\n",
      "consulta_cand_2022_SE.csv\n",
      "consulta_cand_2022_SP.csv\n",
      "consulta_cand_2022_TO.csv\n"
     ]
    }
   ],
   "source": [
    "nome = 'consulta_cand_2022_'\n",
    "for s in siglas:\n",
    "    n = ''\n",
    "    n = nome + s + '.csv'\n",
    "    df = pd.read_csv(n, delimiter=';', encoding='latin1')\n",
    "    df_filtrado = filtra_candidatos(df, colunas_drop)\n",
    "    df_list.append(df_filtrado)\n",
    "    \n",
    "    print(n)\n",
    "    "
   ]
  },
  {
   "cell_type": "code",
   "execution_count": 10,
   "metadata": {},
   "outputs": [],
   "source": [
    "df_final = junta_candidatos(df_list)\n",
    "df_final = df_final.drop(columns=['NR_TURNO'])"
   ]
  },
  {
   "cell_type": "code",
   "execution_count": 11,
   "metadata": {},
   "outputs": [],
   "source": [
    "df_final.to_csv('Candidatos.csv', index=False)"
   ]
  }
 ],
 "metadata": {
  "kernelspec": {
   "display_name": "Python 3",
   "language": "python",
   "name": "python3"
  },
  "language_info": {
   "codemirror_mode": {
    "name": "ipython",
    "version": 3
   },
   "file_extension": ".py",
   "mimetype": "text/x-python",
   "name": "python",
   "nbconvert_exporter": "python",
   "pygments_lexer": "ipython3",
   "version": "3.12.2"
  }
 },
 "nbformat": 4,
 "nbformat_minor": 2
}
