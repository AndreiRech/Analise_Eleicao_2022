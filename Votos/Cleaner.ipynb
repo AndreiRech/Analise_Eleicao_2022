{
 "cells": [
  {
   "cell_type": "code",
   "execution_count": 5,
   "metadata": {},
   "outputs": [],
   "source": [
    "import pandas as pd"
   ]
  },
  {
   "cell_type": "code",
   "execution_count": 1,
   "metadata": {},
   "outputs": [],
   "source": [
    "siglas = ['PA', 'PB', 'PE', 'PI', 'PR', 'RJ', 'RN', 'RO', 'RR', 'RS', 'SC', 'SE', 'SP', 'TO']"
   ]
  },
  {
   "cell_type": "code",
   "execution_count": 2,
   "metadata": {},
   "outputs": [],
   "source": [
    "colunas_drop = [\n",
    "    'DT_GERACAO', 'HH_GERACAO', 'CD_TIPO_ELEICAO',\n",
    "    'NM_TIPO_ELEICAO', 'CD_ELEICAO', 'DS_ELEICAO', 'DT_ELEICAO',\n",
    "    'TP_ABRANGENCIA', 'SG_UE', 'NM_UE', 'CD_MUNICIPIO',\n",
    "    'NM_MUNICIPIO', 'NR_ZONA', 'NR_SECAO', 'CD_CARGO',\n",
    "    'NM_VOTAVEL', 'NR_LOCAL_VOTACAO',\n",
    "    'NM_LOCAL_VOTACAO', 'DS_LOCAL_VOTACAO_ENDERECO'\n",
    "]"
   ]
  },
  {
   "cell_type": "code",
   "execution_count": 3,
   "metadata": {},
   "outputs": [],
   "source": [
    "def filtra_votos(df, colunas_drop):\n",
    "    return (\n",
    "        df.drop(columns=colunas_drop)\n",
    "          .loc[(df['DS_CARGO'] == 'GOVERNADOR') & (df['NR_TURNO'] == 1)]\n",
    "          .drop(columns='NR_TURNO')\n",
    "    )"
   ]
  },
  {
   "cell_type": "code",
   "execution_count": null,
   "metadata": {},
   "outputs": [
    {
     "name": "stdout",
     "output_type": "stream",
     "text": [
      "votacao_secao_2022_PA.csv\n",
      "votacao_secao_2022_PB.csv\n",
      "votacao_secao_2022_PE.csv\n",
      "votacao_secao_2022_PI.csv\n"
     ]
    }
   ],
   "source": [
    "nome = 'votacao_secao_2022_'\n",
    "upload = 'Votos_'\n",
    "for s in siglas:\n",
    "    n = ''\n",
    "    n = nome + s + '.csv'\n",
    "    df = pd.read_csv(n, delimiter=';', encoding='latin1')\n",
    "    \n",
    "    df_filtrado = filtra_votos(df, colunas_drop)    \n",
    "    df_filtrado.to_csv(upload + s + '.csv', index=False)\n",
    "    \n",
    "    print(n)"
   ]
  },
  {
   "cell_type": "code",
   "execution_count": null,
   "metadata": {},
   "outputs": [],
   "source": []
  }
 ],
 "metadata": {
  "kernelspec": {
   "display_name": "Python 3",
   "language": "python",
   "name": "python3"
  },
  "language_info": {
   "codemirror_mode": {
    "name": "ipython",
    "version": 3
   },
   "file_extension": ".py",
   "mimetype": "text/x-python",
   "name": "python",
   "nbconvert_exporter": "python",
   "pygments_lexer": "ipython3",
   "version": "3.12.2"
  }
 },
 "nbformat": 4,
 "nbformat_minor": 2
}
