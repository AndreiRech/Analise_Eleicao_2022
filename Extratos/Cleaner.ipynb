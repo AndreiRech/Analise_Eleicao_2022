{
 "cells": [
  {
   "cell_type": "code",
   "execution_count": 10,
   "metadata": {},
   "outputs": [],
   "source": [
    "import pandas as pd\n",
    "import numpy as np"
   ]
  },
  {
   "cell_type": "code",
   "execution_count": 11,
   "metadata": {},
   "outputs": [],
   "source": [
    "colunas_drop = [\n",
    "    'DT_GERACAO', 'HH_GERACAO', 'ANO_ELEICAO',\n",
    "    'CD_TIPO_ELEICAO', 'NM_TIPO_ELEICAO', 'CD_ELEICAO', 'DS_ELEICAO',\n",
    "    'DT_ELEICAO', 'TP_PRESTACAO_CONTAS', 'DT_PRESTACAO_CONTAS', 'SQ_PRESTADOR_CONTAS',\n",
    "    'SG_UF', 'SG_UE', 'NM_UE', 'NR_CNPJ_PRESTADOR_CONTA',\n",
    "    'CD_CARGO','NR_CPF_VICE_CANDIDATO', 'CD_TIPO_FORNECEDOR', 'DS_TIPO_FORNECEDOR', 'DS_CNAE_FORNECEDOR',\n",
    "    'NR_CPF_CNPJ_FORNECEDOR', 'NM_FORNECEDOR', 'NM_FORNECEDOR_RFB', 'CD_ESFERA_PART_FORNECEDOR',\n",
    "    'DS_ESFERA_PART_FORNECEDOR', 'SG_UF_FORNECEDOR', 'CD_MUNICIPIO_FORNECEDOR', 'NM_MUNICIPIO_FORNECEDOR', \n",
    "    'SQ_CANDIDATO_FORNECEDOR', 'NR_CANDIDATO_FORNECEDOR', 'CD_CARGO_FORNECEDOR', 'DS_CARGO_FORNECEDOR', 'DT_DESPESA',\n",
    "    'NR_CPF_CANDIDATO', 'CD_CNAE_FORNECEDOR', 'CD_ORIGEM_DESPESA', 'NR_DOCUMENTO', 'NM_PARTIDO_FORNECEDOR', 'SG_PARTIDO_FORNECEDOR',\n",
    "    'DS_TIPO_DOCUMENTO', 'NR_PARTIDO_FORNECEDOR'\n",
    "]"
   ]
  },
  {
   "cell_type": "code",
   "execution_count": 12,
   "metadata": {},
   "outputs": [],
   "source": [
    "def filtra_despesas(df, colunas_drop):\n",
    "  df = df.drop(columns=colunas_drop)\n",
    "  df = df.loc[(df['DS_CARGO'] == 'Governador')]\n",
    "   \n",
    "  return df"
   ]
  },
  {
   "cell_type": "code",
   "execution_count": 13,
   "metadata": {},
   "outputs": [],
   "source": [
    "nome = 'despesas_contratadas_candidatos_2022_BRASIL.csv'\n",
    "upload = 'Despesas_BRASIL.csv'\n",
    "    \n",
    "df = pd.read_csv(nome, delimiter=';', encoding='latin1')\n",
    "    \n",
    "df_filtrado = filtra_despesas(df, colunas_drop)\n",
    "    \n",
    "df_filtrado.to_csv(upload, index=False)"
   ]
  }
 ],
 "metadata": {
  "kernelspec": {
   "display_name": "Python 3",
   "language": "python",
   "name": "python3"
  },
  "language_info": {
   "codemirror_mode": {
    "name": "ipython",
    "version": 3
   },
   "file_extension": ".py",
   "mimetype": "text/x-python",
   "name": "python",
   "nbconvert_exporter": "python",
   "pygments_lexer": "ipython3",
   "version": "3.12.2"
  }
 },
 "nbformat": 4,
 "nbformat_minor": 2
}
